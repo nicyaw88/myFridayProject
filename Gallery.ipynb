{
 "cells": [
  {
   "cell_type": "code",
   "execution_count": 39,
   "metadata": {},
   "outputs": [
    {
     "name": "stdout",
     "output_type": "stream",
     "text": [
      "5\n",
      "15\n",
      "21\n",
      "12\n",
      "35\n",
      "20\n",
      "32\n",
      "4\n",
      "21\n",
      "12\n",
      "32\n",
      "28\n",
      "21\n",
      "21\n",
      "9\n",
      "34\n",
      "31\n",
      "37\n",
      "15\n",
      "4\n",
      "21\n",
      "16\n",
      "1\n",
      "15\n",
      "30\n",
      "22\n",
      "8\n",
      "1\n",
      "13\n",
      "11\n",
      "3\n",
      "38\n",
      "5\n",
      "15\n",
      "21\n",
      "12\n",
      "35\n",
      "20\n",
      "32\n",
      "4\n",
      "21\n",
      "12\n",
      "32\n",
      "28\n",
      "21\n",
      "21\n",
      "9\n",
      "34\n",
      "31\n",
      "37\n",
      "15\n",
      "4\n",
      "21\n",
      "16\n",
      "1\n",
      "15\n",
      "30\n",
      "22\n",
      "8\n",
      "1\n",
      "13\n",
      "11\n",
      "3\n",
      "38\n",
      "37\n",
      "12\n",
      "9\n",
      "19\n",
      "25\n",
      "38\n",
      "38\n",
      "29\n",
      "3\n",
      "4\n",
      "26\n",
      "4\n",
      "14\n",
      "22\n",
      "25\n",
      "28\n",
      "14\n",
      "4\n",
      "6\n",
      "28\n",
      "15\n",
      "21\n",
      "23\n",
      "16\n",
      "1\n",
      "19\n",
      "7\n",
      "30\n",
      "8\n",
      "15\n",
      "29\n",
      "31\n",
      "37\n",
      "12\n",
      "9\n",
      "19\n",
      "25\n",
      "38\n",
      "38\n",
      "29\n",
      "3\n",
      "4\n",
      "26\n",
      "4\n",
      "14\n",
      "22\n",
      "25\n",
      "28\n",
      "14\n",
      "4\n",
      "6\n",
      "28\n",
      "15\n",
      "21\n",
      "23\n",
      "16\n",
      "1\n",
      "19\n",
      "7\n",
      "30\n",
      "8\n",
      "15\n",
      "29\n",
      "31\n",
      "3\n",
      "8\n",
      "37\n",
      "23\n",
      "8\n",
      "15\n",
      "9\n",
      "34\n",
      "17\n",
      "10\n",
      "6\n",
      "7\n",
      "16\n",
      "32\n",
      "25\n",
      "2\n",
      "9\n",
      "20\n",
      "35\n",
      "23\n",
      "25\n",
      "30\n",
      "30\n",
      "3\n",
      "28\n",
      "29\n",
      "1\n",
      "25\n",
      "9\n",
      "35\n",
      "32\n",
      "31\n",
      "3\n",
      "8\n",
      "37\n",
      "23\n",
      "8\n",
      "15\n",
      "9\n",
      "34\n",
      "17\n",
      "10\n",
      "6\n",
      "7\n",
      "16\n",
      "32\n",
      "25\n",
      "2\n",
      "9\n",
      "20\n",
      "35\n",
      "23\n",
      "25\n",
      "30\n",
      "30\n",
      "3\n",
      "28\n",
      "29\n",
      "1\n",
      "25\n",
      "9\n",
      "35\n",
      "32\n",
      "31\n"
     ]
    }
   ],
   "source": [
    "alist=[]\n",
    "with open(\"../traffic.txt\") as file:\n",
    "#     print(file)\n",
    "    list_of_lines = [data.split() for data in file]\n",
    "    for i in list_of_lines:\n",
    "        user, room, d, t =i\n",
    "        print(room)\n",
    "        \n",
    "    d\n",
    "# list_of_lines"
   ]
  },
  {
   "cell_type": "code",
   "execution_count": null,
   "metadata": {},
   "outputs": [],
   "source": [
    "def piglatin():\n",
    "    if char(0) in \"aeiou\":\n",
    "        piglatin = ( + \"ay\")\n",
    "    else: \n",
    "        "
   ]
  },
  {
   "cell_type": "code",
   "execution_count": 40,
   "metadata": {},
   "outputs": [],
   "source": [
    "alist=[1,2,3,4,5,6,7,8,9,10]"
   ]
  },
  {
   "cell_type": "code",
   "execution_count": 42,
   "metadata": {},
   "outputs": [],
   "source": [
    "alist = [15,6,4,7,5]"
   ]
  },
  {
   "cell_type": "code",
   "execution_count": 58,
   "metadata": {},
   "outputs": [
    {
     "ename": "TypeError",
     "evalue": "object of type 'NoneType' has no len()",
     "output_type": "error",
     "traceback": [
      "\u001b[0;31m---------------------------------------------------------------------------\u001b[0m",
      "\u001b[0;31mTypeError\u001b[0m                                 Traceback (most recent call last)",
      "\u001b[0;32m<ipython-input-58-62412a04017d>\u001b[0m in \u001b[0;36m<module>\u001b[0;34m()\u001b[0m\n\u001b[0;32m----> 1\u001b[0;31m \u001b[0;32mfor\u001b[0m \u001b[0mindex\u001b[0m \u001b[0;32min\u001b[0m \u001b[0mrange\u001b[0m \u001b[0;34m(\u001b[0m\u001b[0;36m0\u001b[0m\u001b[0;34m,\u001b[0m\u001b[0mlen\u001b[0m\u001b[0;34m(\u001b[0m\u001b[0malist\u001b[0m\u001b[0;34m)\u001b[0m\u001b[0;34m-\u001b[0m\u001b[0;36m1\u001b[0m\u001b[0;34m,\u001b[0m\u001b[0;36m1\u001b[0m\u001b[0;34m)\u001b[0m\u001b[0;34m:\u001b[0m\u001b[0;34m\u001b[0m\u001b[0m\n\u001b[0m\u001b[1;32m      2\u001b[0m     \u001b[0;32mif\u001b[0m \u001b[0malist\u001b[0m\u001b[0;34m[\u001b[0m\u001b[0mindex\u001b[0m\u001b[0;34m]\u001b[0m \u001b[0;34m>\u001b[0m \u001b[0malist\u001b[0m\u001b[0;34m[\u001b[0m\u001b[0mindex\u001b[0m\u001b[0;34m+\u001b[0m\u001b[0;36m1\u001b[0m\u001b[0;34m]\u001b[0m\u001b[0;34m:\u001b[0m\u001b[0;34m\u001b[0m\u001b[0m\n\u001b[1;32m      3\u001b[0m         \u001b[0mtemp1\u001b[0m \u001b[0;34m=\u001b[0m \u001b[0malist\u001b[0m\u001b[0;34m[\u001b[0m\u001b[0mindex\u001b[0m\u001b[0;34m]\u001b[0m\u001b[0;34m\u001b[0m\u001b[0m\n\u001b[1;32m      4\u001b[0m         \u001b[0mtempt2\u001b[0m \u001b[0;34m=\u001b[0m \u001b[0malist\u001b[0m\u001b[0;34m[\u001b[0m\u001b[0mindex\u001b[0m\u001b[0;34m+\u001b[0m\u001b[0;36m1\u001b[0m\u001b[0;34m]\u001b[0m\u001b[0;34m\u001b[0m\u001b[0m\n\u001b[1;32m      5\u001b[0m \u001b[0;34m\u001b[0m\u001b[0m\n",
      "\u001b[0;31mTypeError\u001b[0m: object of type 'NoneType' has no len()"
     ]
    }
   ],
   "source": [
    "for index in range (0,len(alist)-1,1):\n",
    "    if alist[index] > alist[index+1]:\n",
    "        temp1 = alist[index]\n",
    "        tempt2 = alist[index+1]\n",
    "        \n",
    "        alist[index+1]=temp1\n",
    "        alist[index]=temp2"
   ]
  },
  {
   "cell_type": "code",
   "execution_count": null,
   "metadata": {},
   "outputs": [],
   "source": [
    "for index in range (0,len(alist)-1,1):\n",
    "    if alist[index]==15:\n",
    "        temp1 = alist[index]\n",
    "    if alist [index] <15:\n",
    "        temp2 = alist[index]\n",
    "        "
   ]
  },
  {
   "cell_type": "code",
   "execution_count": 67,
   "metadata": {},
   "outputs": [
    {
     "name": "stdout",
     "output_type": "stream",
     "text": [
      "3\n"
     ]
    }
   ],
   "source": [
    "a_list=[1,3,55,1,9,4,56,2,1,8]\n",
    "count = 0\n",
    "for i in a_list:\n",
    "    if i ==1:\n",
    "        count = count + 1\n",
    "print (count)"
   ]
  },
  {
   "cell_type": "code",
   "execution_count": 93,
   "metadata": {},
   "outputs": [],
   "source": [
    "def countletters_digits(alist):\n",
    "    countletters = 0\n",
    "    countdigits = 0\n",
    "    for i in alist:\n",
    "        if i.isalpha()==True:\n",
    "            countletters = countletters + 1\n",
    "        if i.isdigit()==True:\n",
    "            countdigits = countdigits + 1\n",
    "    return countletters,countdigits"
   ]
  },
  {
   "cell_type": "code",
   "execution_count": null,
   "metadata": {},
   "outputs": [],
   "source": [
    "alist = [1,3,55,1,9,4,56,2,1,8]"
   ]
  },
  {
   "cell_type": "code",
   "execution_count": null,
   "metadata": {},
   "outputs": [],
   "source": [
    "for number in alist: \n",
    "count = 0 \n",
    "    if number == 1:\n",
    "        count = count + 1\n",
    "print (count)"
   ]
  },
  {
   "cell_type": "code",
   "execution_count": null,
   "metadata": {},
   "outputs": [],
   "source": [
    "def countlettersdigits=()\n",
    "countletters=0\n",
    "countdigits=0\n",
    "\n",
    "for i in countlettersdigits():\n",
    "    if i.isalpha()==True\n",
    "        countletters = countletters+1\n",
    "    if i.isdigit()==True\n",
    "        countdigits = countdigits+1\n",
    "return countletters"
   ]
  },
  {
   "cell_type": "code",
   "execution_count": 97,
   "metadata": {
    "scrolled": true
   },
   "outputs": [
    {
     "name": "stdout",
     "output_type": "stream",
     "text": [
      "(4, 4)\n"
     ]
    }
   ],
   "source": [
    "alist=(\"4\",\"g\",\"7\",\"r\",\"t\",\"t\",\"7\",\"4\")\n",
    "\n",
    "print (countletters_digits(alist))"
   ]
  },
  {
   "cell_type": "code",
   "execution_count": 154,
   "metadata": {},
   "outputs": [],
   "source": [
    "alist=(\"python\",\"star\",\"green\",\"yellow\")\n",
    "\n",
    "for index in alist:\n",
    "    index(0)=[index:-1]\n",
    "     print (index,alist[index])"
   ]
  },
  {
   "cell_type": "code",
   "execution_count": null,
   "metadata": {},
   "outputs": [],
   "source": [
    "alist=(\"python\",\"star\",\"green\",\"yellow\")\n",
    "\n",
    "for word in alist:\n",
    "    for index in range(len(word)-1,-1,-1):\n",
    "        print (word[index])"
   ]
  },
  {
   "cell_type": "code",
   "execution_count": null,
   "metadata": {},
   "outputs": [],
   "source": [
    "celsius=input(\"Fahrenheit\")\n",
    "\n",
    "if (celsius*(9/5)+32) > 90:\n",
    "    print (\"a heat warning\")\n",
    "elif (celsius*(9/5)+32) < 30:\n",
    "    print (\"a cold warning\")\n",
    "else: \n",
    "    print (\"not hot or cold\")\n",
    "return (celsius*(9/5)+32)"
   ]
  },
  {
   "cell_type": "code",
   "execution_count": 197,
   "metadata": {},
   "outputs": [],
   "source": [
    "def vowelorconsonant():\n",
    "\n",
    "    if letter in vowelorconsonant == \"aeiou\":\n",
    "        print (\"vowel\")\n",
    "    if letter in vowelorconsonant == \"y\":\n",
    "        print (\"vowel or consonant\")\n",
    "    else:\n",
    "        print (\"consonant\")\n",
    "    return vowelorconsonant"
   ]
  },
  {
   "cell_type": "code",
   "execution_count": null,
   "metadata": {},
   "outputs": [],
   "source": [
    "letter=input(\"vowel or consonant\")\n",
    "\n",
    "if letter in (\"a\",\"e\",\"i\",\"o\",\"u\"):\n",
    "    print(\"vowel\")\n",
    "\n",
    "elif letter in (\"y\"):\n",
    "#if letter == \"y\":\n",
    "    print(\"vowel or consonant\")\n",
    "\n",
    "else: \n",
    "    print(\"consonant\")"
   ]
  },
  {
   "cell_type": "code",
   "execution_count": 196,
   "metadata": {},
   "outputs": [
    {
     "ename": "NameError",
     "evalue": "name 'a' is not defined",
     "output_type": "error",
     "traceback": [
      "\u001b[0;31m---------------------------------------------------------------------------\u001b[0m",
      "\u001b[0;31mNameError\u001b[0m                                 Traceback (most recent call last)",
      "\u001b[0;32m<ipython-input-196-af992c970d68>\u001b[0m in \u001b[0;36m<module>\u001b[0;34m()\u001b[0m\n\u001b[0;32m----> 1\u001b[0;31m \u001b[0mvowelorconsonant\u001b[0m\u001b[0;34m(\u001b[0m\u001b[0ma\u001b[0m\u001b[0;34m)\u001b[0m\u001b[0;34m\u001b[0m\u001b[0m\n\u001b[0m\u001b[1;32m      2\u001b[0m \u001b[0;34m\u001b[0m\u001b[0m\n\u001b[1;32m      3\u001b[0m \u001b[0mprint\u001b[0m\u001b[0;34m(\u001b[0m\u001b[0mvowelorconsonant\u001b[0m\u001b[0;34m)\u001b[0m\u001b[0;34m\u001b[0m\u001b[0m\n",
      "\u001b[0;31mNameError\u001b[0m: name 'a' is not defined"
     ]
    }
   ],
   "source": [
    "vowelorconsonant(a)\n",
    "\n",
    "print(vowelorconsonant)"
   ]
  },
  {
   "cell_type": "code",
   "execution_count": null,
   "metadata": {},
   "outputs": [],
   "source": [
    "x = 0 \n",
    "while x < 3:\n",
    "    x = x + 1\n",
    "    print(x)"
   ]
  },
  {
   "cell_type": "code",
   "execution_count": 1,
   "metadata": {},
   "outputs": [],
   "source": [
    "class Customer(object):\n",
    "    \"\"\"A customer of ABC Bank with a checking account. Customers have the\n",
    "    following properties:\n",
    "\n",
    "    Attributes:\n",
    "        name: A string representing the customer's name.\n",
    "        balance: A float tracking the current balance of the customer's account.\n",
    "    \"\"\"\n",
    "\n",
    "    def __init__(self, name, balance=0.0):\n",
    "        \"\"\"Return a Customer object whose name is *name* and starting\n",
    "        balance is *balance*.\"\"\"\n",
    "        self.name = name\n",
    "        self.balance = balance\n",
    "\n",
    "    def withdraw(self, amount):\n",
    "        \"\"\"Return the balance remaining after withdrawing *amount*\n",
    "        dollars.\"\"\"\n",
    "        if amount > self.balance:\n",
    "            raise RuntimeError('Amount greater than available balance.')\n",
    "        self.balance -= amount\n",
    "        return self.balance\n",
    "\n",
    "    def deposit(self, amount):\n",
    "        \"\"\"Return the balance remaining after depositing *amount*\n",
    "        dollars.\"\"\"\n",
    "        self.balance += amount\n",
    "        return self.balance"
   ]
  },
  {
   "cell_type": "code",
   "execution_count": 2,
   "metadata": {},
   "outputs": [],
   "source": [
    "jeff=Customer('Jeff Knupp',1000.0)"
   ]
  },
  {
   "cell_type": "code",
   "execution_count": 4,
   "metadata": {},
   "outputs": [
    {
     "data": {
      "text/plain": [
       "900.0"
      ]
     },
     "execution_count": 4,
     "metadata": {},
     "output_type": "execute_result"
    }
   ],
   "source": [
    "jeff.withdraw(100.0)"
   ]
  },
  {
   "cell_type": "code",
   "execution_count": 5,
   "metadata": {},
   "outputs": [
    {
     "data": {
      "text/plain": [
       "1900.0"
      ]
     },
     "execution_count": 5,
     "metadata": {},
     "output_type": "execute_result"
    }
   ],
   "source": [
    "jeff.deposit(1000.0)"
   ]
  },
  {
   "cell_type": "code",
   "execution_count": 6,
   "metadata": {},
   "outputs": [
    {
     "data": {
      "text/plain": [
       "1100.0"
      ]
     },
     "execution_count": 6,
     "metadata": {},
     "output_type": "execute_result"
    }
   ],
   "source": [
    "jeff.withdraw(800.0)"
   ]
  },
  {
   "cell_type": "code",
   "execution_count": 7,
   "metadata": {},
   "outputs": [
    {
     "ename": "RuntimeError",
     "evalue": "Amount greater than available balance.",
     "output_type": "error",
     "traceback": [
      "\u001b[0;31m---------------------------------------------------------------------------\u001b[0m",
      "\u001b[0;31mRuntimeError\u001b[0m                              Traceback (most recent call last)",
      "\u001b[0;32m<ipython-input-7-767b17d4896a>\u001b[0m in \u001b[0;36m<module>\u001b[0;34m()\u001b[0m\n\u001b[0;32m----> 1\u001b[0;31m \u001b[0mjeff\u001b[0m\u001b[0;34m.\u001b[0m\u001b[0mwithdraw\u001b[0m\u001b[0;34m(\u001b[0m\u001b[0;36m1200.0\u001b[0m\u001b[0;34m)\u001b[0m\u001b[0;34m\u001b[0m\u001b[0m\n\u001b[0m",
      "\u001b[0;32m<ipython-input-1-7075f698bd0e>\u001b[0m in \u001b[0;36mwithdraw\u001b[0;34m(self, amount)\u001b[0m\n\u001b[1;32m     18\u001b[0m         dollars.\"\"\"\n\u001b[1;32m     19\u001b[0m         \u001b[0;32mif\u001b[0m \u001b[0mamount\u001b[0m \u001b[0;34m>\u001b[0m \u001b[0mself\u001b[0m\u001b[0;34m.\u001b[0m\u001b[0mbalance\u001b[0m\u001b[0;34m:\u001b[0m\u001b[0;34m\u001b[0m\u001b[0m\n\u001b[0;32m---> 20\u001b[0;31m             \u001b[0;32mraise\u001b[0m \u001b[0mRuntimeError\u001b[0m\u001b[0;34m(\u001b[0m\u001b[0;34m'Amount greater than available balance.'\u001b[0m\u001b[0;34m)\u001b[0m\u001b[0;34m\u001b[0m\u001b[0m\n\u001b[0m\u001b[1;32m     21\u001b[0m         \u001b[0mself\u001b[0m\u001b[0;34m.\u001b[0m\u001b[0mbalance\u001b[0m \u001b[0;34m-=\u001b[0m \u001b[0mamount\u001b[0m\u001b[0;34m\u001b[0m\u001b[0m\n\u001b[1;32m     22\u001b[0m         \u001b[0;32mreturn\u001b[0m \u001b[0mself\u001b[0m\u001b[0;34m.\u001b[0m\u001b[0mbalance\u001b[0m\u001b[0;34m\u001b[0m\u001b[0m\n",
      "\u001b[0;31mRuntimeError\u001b[0m: Amount greater than available balance."
     ]
    }
   ],
   "source": [
    "jeff.withdraw(1200.0)"
   ]
  },
  {
   "cell_type": "code",
   "execution_count": 1,
   "metadata": {},
   "outputs": [],
   "source": [
    "class Player():\n",
    "    def __init__(self,username,rating=1000):\n",
    "        self.username = username\n",
    "        self.rating = rating\n",
    "    \n",
    "    def update_rating(self,won):\n",
    "        if won:\n",
    "            self.rating += 15\n",
    "        else:\n",
    "            self.rating -= 15\n",
    "        return self.rating"
   ]
  },
  {
   "cell_type": "code",
   "execution_count": 4,
   "metadata": {},
   "outputs": [],
   "source": [
    "player1 = Player(\"user123\",35643)"
   ]
  },
  {
   "cell_type": "code",
   "execution_count": 3,
   "metadata": {},
   "outputs": [
    {
     "data": {
      "text/plain": [
       "'user123'"
      ]
     },
     "execution_count": 3,
     "metadata": {},
     "output_type": "execute_result"
    }
   ],
   "source": [
    "player1.username"
   ]
  },
  {
   "cell_type": "code",
   "execution_count": 5,
   "metadata": {},
   "outputs": [
    {
     "data": {
      "text/plain": [
       "35628"
      ]
     },
     "execution_count": 5,
     "metadata": {},
     "output_type": "execute_result"
    }
   ],
   "source": [
    "player1.update_rating(False)"
   ]
  },
  {
   "cell_type": "code",
   "execution_count": null,
   "metadata": {},
   "outputs": [],
   "source": [
    "class CreditCardValidator():\n",
    "    def __init__(self,card_number,card_type,valid)\n",
    "        self.card_number= cardnumber\n",
    "        self.card_type= cardtype\n",
    "        self.valid = valid\n",
    "        \n",
    "    def check_length (self,)\n",
    "    \n",
    "    def determine_card_type (self,determine):\n",
    "        if index(0) == 4:\n",
    "            print (\"Visa\")\n",
    "        if index(0 and 1) == 51,52,53,54,55:\n",
    "            print (\"Mastercard\")\n",
    "        if index(0 and 1) == 34,37:\n",
    "            print (\"AMEX\")\n",
    "        if index (0 and 1 and 2 and 3) == 6011:\n",
    "            print (\"Discover\")"
   ]
  },
  {
   "cell_type": "code",
   "execution_count": 6,
   "metadata": {},
   "outputs": [
    {
     "name": "stdout",
     "output_type": "stream",
     "text": [
      "*\n",
      "**\n",
      "***\n",
      "****\n",
      "*****\n",
      "****\n",
      "***\n",
      "**\n",
      "*\n"
     ]
    }
   ],
   "source": [
    "for number in range (1,6,1):\n",
    "    print (number*\"*\")\n",
    "for number in range (4,0,-1):\n",
    "    print (number*\"*\")"
   ]
  },
  {
   "cell_type": "code",
   "execution_count": 10,
   "metadata": {},
   "outputs": [
    {
     "name": "stdout",
     "output_type": "stream",
     "text": [
      "Enter a wordhello\n"
     ]
    },
    {
     "ename": "NameError",
     "evalue": "name 'alist' is not defined",
     "output_type": "error",
     "traceback": [
      "\u001b[0;31m---------------------------------------------------------------------------\u001b[0m",
      "\u001b[0;31mNameError\u001b[0m                                 Traceback (most recent call last)",
      "\u001b[0;32m<ipython-input-10-4bd82fdba2ff>\u001b[0m in \u001b[0;36m<module>\u001b[0;34m()\u001b[0m\n\u001b[1;32m      1\u001b[0m \u001b[0malist\u001b[0m\u001b[0;34m:\u001b[0m\u001b[0minput\u001b[0m\u001b[0;34m(\u001b[0m\u001b[0;34m\"Enter a word\"\u001b[0m\u001b[0;34m)\u001b[0m\u001b[0;34m\u001b[0m\u001b[0m\n\u001b[0;32m----> 2\u001b[0;31m \u001b[0;32mfor\u001b[0m \u001b[0mword\u001b[0m \u001b[0;32min\u001b[0m \u001b[0malist\u001b[0m\u001b[0;34m(\u001b[0m\u001b[0;34m)\u001b[0m\u001b[0;34m:\u001b[0m\u001b[0;34m\u001b[0m\u001b[0m\n\u001b[0m\u001b[1;32m      3\u001b[0m     \u001b[0;32mif\u001b[0m \u001b[0mword\u001b[0m \u001b[0;32min\u001b[0m \u001b[0mrange\u001b[0m \u001b[0;34m(\u001b[0m\u001b[0;36m0\u001b[0m\u001b[0;34m,\u001b[0m\u001b[0mlen\u001b[0m\u001b[0;34m(\u001b[0m\u001b[0mword\u001b[0m\u001b[0;34m)\u001b[0m\u001b[0;34m,\u001b[0m\u001b[0;36m1\u001b[0m\u001b[0;34m)\u001b[0m \u001b[0;34m==\u001b[0m \u001b[0mword\u001b[0m \u001b[0;32min\u001b[0m \u001b[0mrange\u001b[0m \u001b[0;34m(\u001b[0m\u001b[0mlen\u001b[0m\u001b[0;34m(\u001b[0m\u001b[0mword\u001b[0m\u001b[0;34m)\u001b[0m\u001b[0;34m,\u001b[0m\u001b[0;36m0\u001b[0m\u001b[0;34m,\u001b[0m\u001b[0;34m-\u001b[0m\u001b[0;36m1\u001b[0m\u001b[0;34m)\u001b[0m\u001b[0;34m:\u001b[0m\u001b[0;34m\u001b[0m\u001b[0m\n\u001b[1;32m      4\u001b[0m         \u001b[0mprint\u001b[0m \u001b[0;34m(\u001b[0m\u001b[0;34m\"it's a palindrome\"\u001b[0m\u001b[0;34m)\u001b[0m\u001b[0;34m\u001b[0m\u001b[0m\n\u001b[1;32m      5\u001b[0m \u001b[0;34m\u001b[0m\u001b[0m\n",
      "\u001b[0;31mNameError\u001b[0m: name 'alist' is not defined"
     ]
    }
   ],
   "source": [
    "alist:input(\"Enter a word\")\n",
    "for word in alist(): \n",
    "    if word in range (0,len(word),1) == word in range (len(word),0,-1):\n",
    "        print (\"it's a palindrome\")\n",
    "    \n",
    "    else:\n",
    "        print (\"it's not a palindrome\")"
   ]
  },
  {
   "cell_type": "code",
   "execution_count": null,
   "metadata": {},
   "outputs": [],
   "source": []
  }
 ],
 "metadata": {
  "kernelspec": {
   "display_name": "Python 3",
   "language": "python",
   "name": "python3"
  },
  "language_info": {
   "codemirror_mode": {
    "name": "ipython",
    "version": 3
   },
   "file_extension": ".py",
   "mimetype": "text/x-python",
   "name": "python",
   "nbconvert_exporter": "python",
   "pygments_lexer": "ipython3",
   "version": "3.6.5"
  }
 },
 "nbformat": 4,
 "nbformat_minor": 2
}
